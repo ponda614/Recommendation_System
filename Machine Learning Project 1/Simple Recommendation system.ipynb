{
 "cells": [
  {
   "cell_type": "code",
   "execution_count": 1,
   "id": "cd2dc39b",
   "metadata": {
    "ExecuteTime": {
     "end_time": "2023-04-20T04:04:25.957502Z",
     "start_time": "2023-04-20T04:04:24.748469Z"
    }
   },
   "outputs": [],
   "source": [
    "import os\n",
    "import pandas as pd\n",
    "import numpy as np\n",
    "import matplotlib.pyplot as plt\n",
    "import numpy as np\n",
    "from scipy import stats\n",
    "from datetime import timedelta\n",
    "import matplotlib.pyplot as plt\n",
    "%matplotlib inline\n",
    "import seaborn as sns\n",
    "import squarify\n"
   ]
  },
  {
   "cell_type": "code",
   "execution_count": 2,
   "id": "4f23ac90",
   "metadata": {
    "ExecuteTime": {
     "end_time": "2023-04-20T04:04:26.035069Z",
     "start_time": "2023-04-20T04:04:25.959504Z"
    }
   },
   "outputs": [
    {
     "data": {
      "text/html": [
       "<div>\n",
       "<style scoped>\n",
       "    .dataframe tbody tr th:only-of-type {\n",
       "        vertical-align: middle;\n",
       "    }\n",
       "\n",
       "    .dataframe tbody tr th {\n",
       "        vertical-align: top;\n",
       "    }\n",
       "\n",
       "    .dataframe thead th {\n",
       "        text-align: right;\n",
       "    }\n",
       "</style>\n",
       "<table border=\"1\" class=\"dataframe\">\n",
       "  <thead>\n",
       "    <tr style=\"text-align: right;\">\n",
       "      <th></th>\n",
       "      <th>Unnamed: 0</th>\n",
       "      <th>Main_ID</th>\n",
       "      <th>Transaction_ID</th>\n",
       "      <th>Date</th>\n",
       "      <th>Price</th>\n",
       "      <th>Code_Product</th>\n",
       "      <th>Amount</th>\n",
       "      <th>ItemKey</th>\n",
       "    </tr>\n",
       "  </thead>\n",
       "  <tbody>\n",
       "    <tr>\n",
       "      <th>0</th>\n",
       "      <td>0</td>\n",
       "      <td>90fada91</td>\n",
       "      <td>264f7a69</td>\n",
       "      <td>2022-10-07 20:53:49.153</td>\n",
       "      <td>125.0</td>\n",
       "      <td>5002.0</td>\n",
       "      <td>1.0</td>\n",
       "      <td>5002.0</td>\n",
       "    </tr>\n",
       "    <tr>\n",
       "      <th>1</th>\n",
       "      <td>1</td>\n",
       "      <td>9006f9ac</td>\n",
       "      <td>45c7d853</td>\n",
       "      <td>2022-09-17 15:54:57.187</td>\n",
       "      <td>19.0</td>\n",
       "      <td>35012.0</td>\n",
       "      <td>1.0</td>\n",
       "      <td>NaN</td>\n",
       "    </tr>\n",
       "    <tr>\n",
       "      <th>2</th>\n",
       "      <td>2</td>\n",
       "      <td>32270891</td>\n",
       "      <td>61ad76dd</td>\n",
       "      <td>2022-11-28 13:51:55.667</td>\n",
       "      <td>141.0</td>\n",
       "      <td>5005.0</td>\n",
       "      <td>1.0</td>\n",
       "      <td>5005.0</td>\n",
       "    </tr>\n",
       "    <tr>\n",
       "      <th>3</th>\n",
       "      <td>3</td>\n",
       "      <td>97e03e47</td>\n",
       "      <td>41ee09f6</td>\n",
       "      <td>2022-09-12 16:20:22.110</td>\n",
       "      <td>4.5</td>\n",
       "      <td>35078.5</td>\n",
       "      <td>1.0</td>\n",
       "      <td>NaN</td>\n",
       "    </tr>\n",
       "    <tr>\n",
       "      <th>4</th>\n",
       "      <td>4</td>\n",
       "      <td>41949228</td>\n",
       "      <td>244fe6d8</td>\n",
       "      <td>2022-10-14 18:53:43.933</td>\n",
       "      <td>129.5</td>\n",
       "      <td>49291.5</td>\n",
       "      <td>5.0</td>\n",
       "      <td>NaN</td>\n",
       "    </tr>\n",
       "    <tr>\n",
       "      <th>...</th>\n",
       "      <td>...</td>\n",
       "      <td>...</td>\n",
       "      <td>...</td>\n",
       "      <td>...</td>\n",
       "      <td>...</td>\n",
       "      <td>...</td>\n",
       "      <td>...</td>\n",
       "      <td>...</td>\n",
       "    </tr>\n",
       "    <tr>\n",
       "      <th>49995</th>\n",
       "      <td>49995</td>\n",
       "      <td>bb127ffb</td>\n",
       "      <td>4e0eb5ab</td>\n",
       "      <td>2022-09-24 21:48:20.847</td>\n",
       "      <td>111.5</td>\n",
       "      <td>45004.0</td>\n",
       "      <td>4.0</td>\n",
       "      <td>45004.0</td>\n",
       "    </tr>\n",
       "    <tr>\n",
       "      <th>49996</th>\n",
       "      <td>49996</td>\n",
       "      <td>a8bc484a</td>\n",
       "      <td>c9946c16</td>\n",
       "      <td>2022-11-18 19:49:01.973</td>\n",
       "      <td>34.0</td>\n",
       "      <td>49292.0</td>\n",
       "      <td>1.0</td>\n",
       "      <td>NaN</td>\n",
       "    </tr>\n",
       "    <tr>\n",
       "      <th>49997</th>\n",
       "      <td>49997</td>\n",
       "      <td>c983862a</td>\n",
       "      <td>d1a35c5c</td>\n",
       "      <td>2022-11-24 20:02:43.023</td>\n",
       "      <td>178.0</td>\n",
       "      <td>5001.5</td>\n",
       "      <td>1.0</td>\n",
       "      <td>5001.5</td>\n",
       "    </tr>\n",
       "    <tr>\n",
       "      <th>49998</th>\n",
       "      <td>49998</td>\n",
       "      <td>8821da12</td>\n",
       "      <td>66f9b474</td>\n",
       "      <td>2022-11-06 13:07:01.423</td>\n",
       "      <td>26.0</td>\n",
       "      <td>49291.5</td>\n",
       "      <td>1.0</td>\n",
       "      <td>NaN</td>\n",
       "    </tr>\n",
       "    <tr>\n",
       "      <th>49999</th>\n",
       "      <td>49999</td>\n",
       "      <td>7f281f91</td>\n",
       "      <td>0ff8b41f</td>\n",
       "      <td>2022-10-10 16:06:20.473</td>\n",
       "      <td>52.0</td>\n",
       "      <td>45001.5</td>\n",
       "      <td>1.0</td>\n",
       "      <td>45001.5</td>\n",
       "    </tr>\n",
       "  </tbody>\n",
       "</table>\n",
       "<p>50000 rows × 8 columns</p>\n",
       "</div>"
      ],
      "text/plain": [
       "       Unnamed: 0   Main_ID Transaction_ID                     Date  Price  \\\n",
       "0               0  90fada91       264f7a69  2022-10-07 20:53:49.153  125.0   \n",
       "1               1  9006f9ac       45c7d853  2022-09-17 15:54:57.187   19.0   \n",
       "2               2  32270891       61ad76dd  2022-11-28 13:51:55.667  141.0   \n",
       "3               3  97e03e47       41ee09f6  2022-09-12 16:20:22.110    4.5   \n",
       "4               4  41949228       244fe6d8  2022-10-14 18:53:43.933  129.5   \n",
       "...           ...       ...            ...                      ...    ...   \n",
       "49995       49995  bb127ffb       4e0eb5ab  2022-09-24 21:48:20.847  111.5   \n",
       "49996       49996  a8bc484a       c9946c16  2022-11-18 19:49:01.973   34.0   \n",
       "49997       49997  c983862a       d1a35c5c  2022-11-24 20:02:43.023  178.0   \n",
       "49998       49998  8821da12       66f9b474  2022-11-06 13:07:01.423   26.0   \n",
       "49999       49999  7f281f91       0ff8b41f  2022-10-10 16:06:20.473   52.0   \n",
       "\n",
       "       Code_Product  Amount  ItemKey  \n",
       "0            5002.0     1.0   5002.0  \n",
       "1           35012.0     1.0      NaN  \n",
       "2            5005.0     1.0   5005.0  \n",
       "3           35078.5     1.0      NaN  \n",
       "4           49291.5     5.0      NaN  \n",
       "...             ...     ...      ...  \n",
       "49995       45004.0     4.0  45004.0  \n",
       "49996       49292.0     1.0      NaN  \n",
       "49997        5001.5     1.0   5001.5  \n",
       "49998       49291.5     1.0      NaN  \n",
       "49999       45001.5     1.0  45001.5  \n",
       "\n",
       "[50000 rows x 8 columns]"
      ]
     },
     "execution_count": 2,
     "metadata": {},
     "output_type": "execute_result"
    }
   ],
   "source": [
    "#Using pandas read_csv() function\n",
    "df = pd.read_csv(r\"C:\\Users\\Owner\\Desktop\\Mangimind Data Science Bootcamp\\Machine Learning Project 1\\recom.csv\")\n",
    "df"
   ]
  },
  {
   "cell_type": "code",
   "execution_count": 3,
   "id": "6a0741f2",
   "metadata": {
    "ExecuteTime": {
     "end_time": "2023-04-20T04:04:26.050576Z",
     "start_time": "2023-04-20T04:04:26.036570Z"
    }
   },
   "outputs": [],
   "source": [
    "#looking at all columns in the dataframe\n",
    "df.columns.tolist()\n",
    "# Dropped 'Unnamed: 0' \n",
    "df = df.drop(columns =['Unnamed: 0'])"
   ]
  },
  {
   "cell_type": "code",
   "execution_count": 4,
   "id": "162d7b98",
   "metadata": {
    "ExecuteTime": {
     "end_time": "2023-04-20T04:04:26.112421Z",
     "start_time": "2023-04-20T04:04:26.052077Z"
    }
   },
   "outputs": [
    {
     "name": "stdout",
     "output_type": "stream",
     "text": [
      "<class 'pandas.core.frame.DataFrame'>\n",
      "RangeIndex: 50000 entries, 0 to 49999\n",
      "Data columns (total 7 columns):\n",
      " #   Column          Non-Null Count  Dtype  \n",
      "---  ------          --------------  -----  \n",
      " 0   Main_ID         50000 non-null  object \n",
      " 1   Transaction_ID  50000 non-null  object \n",
      " 2   Date            50000 non-null  object \n",
      " 3   Price           50000 non-null  float64\n",
      " 4   Code_Product    50000 non-null  float64\n",
      " 5   Amount          50000 non-null  float64\n",
      " 6   ItemKey         28597 non-null  float64\n",
      "dtypes: float64(4), object(3)\n",
      "memory usage: 2.7+ MB\n"
     ]
    }
   ],
   "source": [
    "# The info() method prints information about the DataFrame. \n",
    "# The information contains the number of columns, column labels, column data types, memory usage, range index, and the number of cells in each column (non-null values). \n",
    "df.info()\n",
    "\n",
    "# Using the isnull() with sum() to look at the number of null values in the dataframe.\n",
    "df.isnull().sum()\n",
    "\n",
    "# Using isnull() with mean() function to get the percentage of missing data in itemKey, which is 42.81%\n",
    "df.isnull().mean()\n",
    "\n",
    "# Filling NaN values in ItemKey as 0 because dropping all the NaN values would result in losing a large sameple of data.\n",
    "df = df.fillna(0)\n"
   ]
  },
  {
   "cell_type": "code",
   "execution_count": 5,
   "id": "1ee740a7",
   "metadata": {
    "ExecuteTime": {
     "end_time": "2023-04-20T04:04:26.189993Z",
     "start_time": "2023-04-20T04:04:26.113922Z"
    }
   },
   "outputs": [
    {
     "name": "stdout",
     "output_type": "stream",
     "text": [
      "<class 'pandas.core.frame.DataFrame'>\n",
      "RangeIndex: 50000 entries, 0 to 49999\n",
      "Data columns (total 7 columns):\n",
      " #   Column          Non-Null Count  Dtype         \n",
      "---  ------          --------------  -----         \n",
      " 0   Main_ID         50000 non-null  object        \n",
      " 1   Transaction_ID  50000 non-null  object        \n",
      " 2   Date            50000 non-null  datetime64[ns]\n",
      " 3   Price           50000 non-null  float64       \n",
      " 4   Code_Product    50000 non-null  object        \n",
      " 5   Amount          50000 non-null  float64       \n",
      " 6   ItemKey         50000 non-null  object        \n",
      "dtypes: datetime64[ns](1), float64(2), object(4)\n",
      "memory usage: 2.7+ MB\n"
     ]
    }
   ],
   "source": [
    "df['Date'] = pd.to_datetime(df['Date'])\n",
    "df['Code_Product'] = df['Code_Product'].astype(str)\n",
    "df['ItemKey'] = df['Code_Product']\n",
    "df['ItemKey'] = df['ItemKey'].astype(str)\n",
    "df.info()"
   ]
  },
  {
   "cell_type": "code",
   "execution_count": 6,
   "id": "a19b26b4",
   "metadata": {
    "ExecuteTime": {
     "end_time": "2023-04-20T04:04:26.205516Z",
     "start_time": "2023-04-20T04:04:26.190994Z"
    }
   },
   "outputs": [
    {
     "name": "stdout",
     "output_type": "stream",
     "text": [
      "True     28729\n",
      "False    21271\n",
      "Name: Main_ID, dtype: int64\n",
      "False    46859\n",
      "True      3141\n",
      "Name: Transaction_ID, dtype: int64\n"
     ]
    }
   ],
   "source": [
    "print(df['Main_ID'].duplicated(keep= False).value_counts())\n",
    "print(df['Transaction_ID'].duplicated(keep= False).value_counts())"
   ]
  },
  {
   "cell_type": "code",
   "execution_count": 7,
   "id": "da1f5130",
   "metadata": {
    "ExecuteTime": {
     "end_time": "2023-04-20T04:04:29.044446Z",
     "start_time": "2023-04-20T04:04:26.208018Z"
    }
   },
   "outputs": [
    {
     "data": {
      "text/html": [
       "<div>\n",
       "<style scoped>\n",
       "    .dataframe tbody tr th:only-of-type {\n",
       "        vertical-align: middle;\n",
       "    }\n",
       "\n",
       "    .dataframe tbody tr th {\n",
       "        vertical-align: top;\n",
       "    }\n",
       "\n",
       "    .dataframe thead tr th {\n",
       "        text-align: left;\n",
       "    }\n",
       "\n",
       "    .dataframe thead tr:last-of-type th {\n",
       "        text-align: right;\n",
       "    }\n",
       "</style>\n",
       "<table border=\"1\" class=\"dataframe\">\n",
       "  <thead>\n",
       "    <tr>\n",
       "      <th></th>\n",
       "      <th colspan=\"21\" halign=\"left\">Amount</th>\n",
       "    </tr>\n",
       "    <tr>\n",
       "      <th>Code_Product</th>\n",
       "      <th>10000.5</th>\n",
       "      <th>10001.0</th>\n",
       "      <th>10001.5</th>\n",
       "      <th>10002.0</th>\n",
       "      <th>10003.0</th>\n",
       "      <th>10003.5</th>\n",
       "      <th>10004.0</th>\n",
       "      <th>10006.0</th>\n",
       "      <th>10013.0</th>\n",
       "      <th>10015.0</th>\n",
       "      <th>...</th>\n",
       "      <th>57035.5</th>\n",
       "      <th>60020.5</th>\n",
       "      <th>60047.5</th>\n",
       "      <th>60048.0</th>\n",
       "      <th>60048.5</th>\n",
       "      <th>60049.0</th>\n",
       "      <th>60049.5</th>\n",
       "      <th>60050.5</th>\n",
       "      <th>60051.0</th>\n",
       "      <th>60052.0</th>\n",
       "    </tr>\n",
       "    <tr>\n",
       "      <th>Main_ID</th>\n",
       "      <th></th>\n",
       "      <th></th>\n",
       "      <th></th>\n",
       "      <th></th>\n",
       "      <th></th>\n",
       "      <th></th>\n",
       "      <th></th>\n",
       "      <th></th>\n",
       "      <th></th>\n",
       "      <th></th>\n",
       "      <th></th>\n",
       "      <th></th>\n",
       "      <th></th>\n",
       "      <th></th>\n",
       "      <th></th>\n",
       "      <th></th>\n",
       "      <th></th>\n",
       "      <th></th>\n",
       "      <th></th>\n",
       "      <th></th>\n",
       "      <th></th>\n",
       "    </tr>\n",
       "  </thead>\n",
       "  <tbody>\n",
       "    <tr>\n",
       "      <th>00024de6</th>\n",
       "      <td>0</td>\n",
       "      <td>0</td>\n",
       "      <td>0</td>\n",
       "      <td>0</td>\n",
       "      <td>0</td>\n",
       "      <td>0</td>\n",
       "      <td>0</td>\n",
       "      <td>0</td>\n",
       "      <td>0</td>\n",
       "      <td>0</td>\n",
       "      <td>...</td>\n",
       "      <td>0</td>\n",
       "      <td>0</td>\n",
       "      <td>0</td>\n",
       "      <td>0</td>\n",
       "      <td>0</td>\n",
       "      <td>0</td>\n",
       "      <td>0</td>\n",
       "      <td>0</td>\n",
       "      <td>0</td>\n",
       "      <td>0</td>\n",
       "    </tr>\n",
       "    <tr>\n",
       "      <th>00084856</th>\n",
       "      <td>0</td>\n",
       "      <td>0</td>\n",
       "      <td>0</td>\n",
       "      <td>0</td>\n",
       "      <td>0</td>\n",
       "      <td>0</td>\n",
       "      <td>0</td>\n",
       "      <td>0</td>\n",
       "      <td>0</td>\n",
       "      <td>0</td>\n",
       "      <td>...</td>\n",
       "      <td>0</td>\n",
       "      <td>0</td>\n",
       "      <td>0</td>\n",
       "      <td>0</td>\n",
       "      <td>0</td>\n",
       "      <td>0</td>\n",
       "      <td>0</td>\n",
       "      <td>0</td>\n",
       "      <td>0</td>\n",
       "      <td>0</td>\n",
       "    </tr>\n",
       "    <tr>\n",
       "      <th>0008e848</th>\n",
       "      <td>0</td>\n",
       "      <td>0</td>\n",
       "      <td>0</td>\n",
       "      <td>0</td>\n",
       "      <td>0</td>\n",
       "      <td>0</td>\n",
       "      <td>0</td>\n",
       "      <td>0</td>\n",
       "      <td>0</td>\n",
       "      <td>0</td>\n",
       "      <td>...</td>\n",
       "      <td>0</td>\n",
       "      <td>0</td>\n",
       "      <td>0</td>\n",
       "      <td>0</td>\n",
       "      <td>0</td>\n",
       "      <td>0</td>\n",
       "      <td>0</td>\n",
       "      <td>0</td>\n",
       "      <td>0</td>\n",
       "      <td>0</td>\n",
       "    </tr>\n",
       "    <tr>\n",
       "      <th>00096930</th>\n",
       "      <td>0</td>\n",
       "      <td>0</td>\n",
       "      <td>0</td>\n",
       "      <td>0</td>\n",
       "      <td>0</td>\n",
       "      <td>0</td>\n",
       "      <td>0</td>\n",
       "      <td>0</td>\n",
       "      <td>0</td>\n",
       "      <td>0</td>\n",
       "      <td>...</td>\n",
       "      <td>0</td>\n",
       "      <td>0</td>\n",
       "      <td>0</td>\n",
       "      <td>0</td>\n",
       "      <td>0</td>\n",
       "      <td>0</td>\n",
       "      <td>0</td>\n",
       "      <td>0</td>\n",
       "      <td>0</td>\n",
       "      <td>0</td>\n",
       "    </tr>\n",
       "    <tr>\n",
       "      <th>000c66b7</th>\n",
       "      <td>0</td>\n",
       "      <td>0</td>\n",
       "      <td>0</td>\n",
       "      <td>0</td>\n",
       "      <td>0</td>\n",
       "      <td>0</td>\n",
       "      <td>0</td>\n",
       "      <td>0</td>\n",
       "      <td>0</td>\n",
       "      <td>0</td>\n",
       "      <td>...</td>\n",
       "      <td>0</td>\n",
       "      <td>0</td>\n",
       "      <td>0</td>\n",
       "      <td>0</td>\n",
       "      <td>0</td>\n",
       "      <td>0</td>\n",
       "      <td>0</td>\n",
       "      <td>0</td>\n",
       "      <td>0</td>\n",
       "      <td>0</td>\n",
       "    </tr>\n",
       "    <tr>\n",
       "      <th>...</th>\n",
       "      <td>...</td>\n",
       "      <td>...</td>\n",
       "      <td>...</td>\n",
       "      <td>...</td>\n",
       "      <td>...</td>\n",
       "      <td>...</td>\n",
       "      <td>...</td>\n",
       "      <td>...</td>\n",
       "      <td>...</td>\n",
       "      <td>...</td>\n",
       "      <td>...</td>\n",
       "      <td>...</td>\n",
       "      <td>...</td>\n",
       "      <td>...</td>\n",
       "      <td>...</td>\n",
       "      <td>...</td>\n",
       "      <td>...</td>\n",
       "      <td>...</td>\n",
       "      <td>...</td>\n",
       "      <td>...</td>\n",
       "      <td>...</td>\n",
       "    </tr>\n",
       "    <tr>\n",
       "      <th>fff8b1c4</th>\n",
       "      <td>0</td>\n",
       "      <td>0</td>\n",
       "      <td>0</td>\n",
       "      <td>0</td>\n",
       "      <td>0</td>\n",
       "      <td>0</td>\n",
       "      <td>0</td>\n",
       "      <td>0</td>\n",
       "      <td>0</td>\n",
       "      <td>0</td>\n",
       "      <td>...</td>\n",
       "      <td>0</td>\n",
       "      <td>0</td>\n",
       "      <td>0</td>\n",
       "      <td>0</td>\n",
       "      <td>0</td>\n",
       "      <td>0</td>\n",
       "      <td>0</td>\n",
       "      <td>0</td>\n",
       "      <td>0</td>\n",
       "      <td>0</td>\n",
       "    </tr>\n",
       "    <tr>\n",
       "      <th>fff905d0</th>\n",
       "      <td>0</td>\n",
       "      <td>0</td>\n",
       "      <td>0</td>\n",
       "      <td>0</td>\n",
       "      <td>0</td>\n",
       "      <td>0</td>\n",
       "      <td>0</td>\n",
       "      <td>0</td>\n",
       "      <td>0</td>\n",
       "      <td>0</td>\n",
       "      <td>...</td>\n",
       "      <td>0</td>\n",
       "      <td>0</td>\n",
       "      <td>0</td>\n",
       "      <td>0</td>\n",
       "      <td>0</td>\n",
       "      <td>0</td>\n",
       "      <td>0</td>\n",
       "      <td>0</td>\n",
       "      <td>0</td>\n",
       "      <td>0</td>\n",
       "    </tr>\n",
       "    <tr>\n",
       "      <th>fff9726b</th>\n",
       "      <td>0</td>\n",
       "      <td>0</td>\n",
       "      <td>0</td>\n",
       "      <td>0</td>\n",
       "      <td>0</td>\n",
       "      <td>0</td>\n",
       "      <td>0</td>\n",
       "      <td>0</td>\n",
       "      <td>0</td>\n",
       "      <td>0</td>\n",
       "      <td>...</td>\n",
       "      <td>0</td>\n",
       "      <td>0</td>\n",
       "      <td>0</td>\n",
       "      <td>0</td>\n",
       "      <td>0</td>\n",
       "      <td>0</td>\n",
       "      <td>0</td>\n",
       "      <td>0</td>\n",
       "      <td>0</td>\n",
       "      <td>0</td>\n",
       "    </tr>\n",
       "    <tr>\n",
       "      <th>fffa332b</th>\n",
       "      <td>0</td>\n",
       "      <td>0</td>\n",
       "      <td>0</td>\n",
       "      <td>0</td>\n",
       "      <td>0</td>\n",
       "      <td>0</td>\n",
       "      <td>0</td>\n",
       "      <td>0</td>\n",
       "      <td>0</td>\n",
       "      <td>0</td>\n",
       "      <td>...</td>\n",
       "      <td>0</td>\n",
       "      <td>0</td>\n",
       "      <td>0</td>\n",
       "      <td>0</td>\n",
       "      <td>0</td>\n",
       "      <td>0</td>\n",
       "      <td>0</td>\n",
       "      <td>0</td>\n",
       "      <td>0</td>\n",
       "      <td>0</td>\n",
       "    </tr>\n",
       "    <tr>\n",
       "      <th>ffff4aa9</th>\n",
       "      <td>0</td>\n",
       "      <td>0</td>\n",
       "      <td>0</td>\n",
       "      <td>0</td>\n",
       "      <td>0</td>\n",
       "      <td>0</td>\n",
       "      <td>0</td>\n",
       "      <td>0</td>\n",
       "      <td>0</td>\n",
       "      <td>0</td>\n",
       "      <td>...</td>\n",
       "      <td>0</td>\n",
       "      <td>0</td>\n",
       "      <td>0</td>\n",
       "      <td>0</td>\n",
       "      <td>0</td>\n",
       "      <td>0</td>\n",
       "      <td>0</td>\n",
       "      <td>0</td>\n",
       "      <td>0</td>\n",
       "      <td>0</td>\n",
       "    </tr>\n",
       "  </tbody>\n",
       "</table>\n",
       "<p>28514 rows × 333 columns</p>\n",
       "</div>"
      ],
      "text/plain": [
       "              Amount                                                          \\\n",
       "Code_Product 10000.5 10001.0 10001.5 10002.0 10003.0 10003.5 10004.0 10006.0   \n",
       "Main_ID                                                                        \n",
       "00024de6           0       0       0       0       0       0       0       0   \n",
       "00084856           0       0       0       0       0       0       0       0   \n",
       "0008e848           0       0       0       0       0       0       0       0   \n",
       "00096930           0       0       0       0       0       0       0       0   \n",
       "000c66b7           0       0       0       0       0       0       0       0   \n",
       "...              ...     ...     ...     ...     ...     ...     ...     ...   \n",
       "fff8b1c4           0       0       0       0       0       0       0       0   \n",
       "fff905d0           0       0       0       0       0       0       0       0   \n",
       "fff9726b           0       0       0       0       0       0       0       0   \n",
       "fffa332b           0       0       0       0       0       0       0       0   \n",
       "ffff4aa9           0       0       0       0       0       0       0       0   \n",
       "\n",
       "                              ...                                          \\\n",
       "Code_Product 10013.0 10015.0  ... 57035.5 60020.5 60047.5 60048.0 60048.5   \n",
       "Main_ID                       ...                                           \n",
       "00024de6           0       0  ...       0       0       0       0       0   \n",
       "00084856           0       0  ...       0       0       0       0       0   \n",
       "0008e848           0       0  ...       0       0       0       0       0   \n",
       "00096930           0       0  ...       0       0       0       0       0   \n",
       "000c66b7           0       0  ...       0       0       0       0       0   \n",
       "...              ...     ...  ...     ...     ...     ...     ...     ...   \n",
       "fff8b1c4           0       0  ...       0       0       0       0       0   \n",
       "fff905d0           0       0  ...       0       0       0       0       0   \n",
       "fff9726b           0       0  ...       0       0       0       0       0   \n",
       "fffa332b           0       0  ...       0       0       0       0       0   \n",
       "ffff4aa9           0       0  ...       0       0       0       0       0   \n",
       "\n",
       "                                                      \n",
       "Code_Product 60049.0 60049.5 60050.5 60051.0 60052.0  \n",
       "Main_ID                                               \n",
       "00024de6           0       0       0       0       0  \n",
       "00084856           0       0       0       0       0  \n",
       "0008e848           0       0       0       0       0  \n",
       "00096930           0       0       0       0       0  \n",
       "000c66b7           0       0       0       0       0  \n",
       "...              ...     ...     ...     ...     ...  \n",
       "fff8b1c4           0       0       0       0       0  \n",
       "fff905d0           0       0       0       0       0  \n",
       "fff9726b           0       0       0       0       0  \n",
       "fffa332b           0       0       0       0       0  \n",
       "ffff4aa9           0       0       0       0       0  \n",
       "\n",
       "[28514 rows x 333 columns]"
      ]
     },
     "metadata": {},
     "output_type": "display_data"
    }
   ],
   "source": [
    "# Creating a Pivot Table using pd.pivot_table() function. \n",
    "# The levels in the pivot table will be stored in MultiIndex objects (hierarchical indexes) on the index and columns of the result DataFrame.\n",
    "\n",
    "pivot_table = pd.pivot_table(df, index =['Main_ID'], \n",
    "                             columns= ['Code_Product'],\n",
    "                             values = ['Amount'], \n",
    "                             aggfunc=pd.Series.sum, fill_value=0)\n",
    "display(pivot_table)\n"
   ]
  },
  {
   "cell_type": "code",
   "execution_count": 49,
   "id": "a6598bc7",
   "metadata": {
    "ExecuteTime": {
     "end_time": "2023-04-20T04:34:21.969002Z",
     "start_time": "2023-04-20T04:34:17.598765Z"
    }
   },
   "outputs": [
    {
     "data": {
      "text/plain": [
       "MultiIndex([('Amount', '10000.5'),\n",
       "            ('Amount', '10001.0'),\n",
       "            ('Amount', '10001.5'),\n",
       "            ('Amount', '10002.0'),\n",
       "            ('Amount', '10003.0'),\n",
       "            ('Amount', '10003.5'),\n",
       "            ('Amount', '10004.0'),\n",
       "            ('Amount', '10006.0'),\n",
       "            ('Amount', '10013.0'),\n",
       "            ('Amount', '10015.0'),\n",
       "            ...\n",
       "            ('Amount', '57035.5'),\n",
       "            ('Amount', '60020.5'),\n",
       "            ('Amount', '60047.5'),\n",
       "            ('Amount', '60048.0'),\n",
       "            ('Amount', '60048.5'),\n",
       "            ('Amount', '60049.0'),\n",
       "            ('Amount', '60049.5'),\n",
       "            ('Amount', '60050.5'),\n",
       "            ('Amount', '60051.0'),\n",
       "            ('Amount', '60052.0')],\n",
       "           names=[None, 'Code_Product'], length=333)"
      ]
     },
     "execution_count": 49,
     "metadata": {},
     "output_type": "execute_result"
    }
   ],
   "source": [
    "product_corr = pivot_table.corr()\n",
    "product_corr"
   ]
  },
  {
   "cell_type": "code",
   "execution_count": 50,
   "id": "ba434548",
   "metadata": {
    "ExecuteTime": {
     "end_time": "2023-04-20T04:34:28.859776Z",
     "start_time": "2023-04-20T04:34:28.850268Z"
    },
    "run_control": {
     "marked": true
    }
   },
   "outputs": [],
   "source": [
    "product_corr = product_corr.reset_index(level = 0, drop = True).droplevel(0, axis=1)"
   ]
  },
  {
   "cell_type": "code",
   "execution_count": 58,
   "id": "52ba90a4",
   "metadata": {
    "ExecuteTime": {
     "end_time": "2023-04-20T04:37:31.078810Z",
     "start_time": "2023-04-20T04:37:31.063298Z"
    }
   },
   "outputs": [
    {
     "data": {
      "text/plain": [
       "Code_Product\n",
       "5000.5     0.119490\n",
       "10006.0    0.104608\n",
       "49292.0    0.102250\n",
       "5005.0     0.095727\n",
       "48513.0    0.091126\n",
       "25003.0    0.089424\n",
       "45004.0    0.076152\n",
       "40077.5    0.074376\n",
       "49567.5    0.070651\n",
       "10031.0    0.070045\n",
       "Name: 49291.5, dtype: float64"
      ]
     },
     "execution_count": 58,
     "metadata": {},
     "output_type": "execute_result"
    }
   ],
   "source": [
    "product_corr['49291.5'].sort_values(ascending = False).iloc[1:11]"
   ]
  },
  {
   "cell_type": "code",
   "execution_count": null,
   "id": "4c74aaff",
   "metadata": {},
   "outputs": [],
   "source": [
    "['10006.0' '5000.5' '5005.0' '25003.0' '45004.0' '48513.0' '10031.0'\n",
    " '10023.5' '49567.5' '5001.0']"
   ]
  },
  {
   "cell_type": "code",
   "execution_count": 38,
   "id": "bf3ce9e0",
   "metadata": {
    "ExecuteTime": {
     "end_time": "2023-04-20T04:20:37.184156Z",
     "start_time": "2023-04-20T04:20:36.379963Z"
    }
   },
   "outputs": [
    {
     "data": {
      "text/plain": [
       "Main_ID\n",
       "00024de6             [35097.0]\n",
       "00084856    [49291.5, 49292.0]\n",
       "0008e848             [40002.0]\n",
       "00096930             [49291.5]\n",
       "000c66b7     [45001.0, 5002.0]\n",
       "Name: Code_Product, dtype: object"
      ]
     },
     "execution_count": 38,
     "metadata": {},
     "output_type": "execute_result"
    }
   ],
   "source": [
    "new_df = df.groupby(['Main_ID'])['Code_Product'].unique()\n",
    "new_df.head()"
   ]
  },
  {
   "cell_type": "code",
   "execution_count": 39,
   "id": "2c8ee9e8",
   "metadata": {
    "ExecuteTime": {
     "end_time": "2023-04-20T04:20:37.323761Z",
     "start_time": "2023-04-20T04:20:37.309291Z"
    }
   },
   "outputs": [],
   "source": [
    "df_cust_product_purchase = pd.DataFrame({'Main_ID':new_df.index, 'Code_Product':new_df.values})"
   ]
  },
  {
   "cell_type": "code",
   "execution_count": 56,
   "id": "65b2f64b",
   "metadata": {
    "ExecuteTime": {
     "end_time": "2023-04-20T04:36:18.634236Z",
     "start_time": "2023-04-20T04:36:18.620724Z"
    }
   },
   "outputs": [
    {
     "data": {
      "text/html": [
       "<div>\n",
       "<style scoped>\n",
       "    .dataframe tbody tr th:only-of-type {\n",
       "        vertical-align: middle;\n",
       "    }\n",
       "\n",
       "    .dataframe tbody tr th {\n",
       "        vertical-align: top;\n",
       "    }\n",
       "\n",
       "    .dataframe thead th {\n",
       "        text-align: right;\n",
       "    }\n",
       "</style>\n",
       "<table border=\"1\" class=\"dataframe\">\n",
       "  <thead>\n",
       "    <tr style=\"text-align: right;\">\n",
       "      <th></th>\n",
       "      <th>Main_ID</th>\n",
       "      <th>Code_Product</th>\n",
       "    </tr>\n",
       "  </thead>\n",
       "  <tbody>\n",
       "  </tbody>\n",
       "</table>\n",
       "</div>"
      ],
      "text/plain": [
       "Empty DataFrame\n",
       "Columns: [Main_ID, Code_Product]\n",
       "Index: []"
      ]
     },
     "execution_count": 56,
     "metadata": {},
     "output_type": "execute_result"
    }
   ],
   "source": [
    "df_cust_product_purchase.loc[df_cust_product_purchase['Main_ID'] == '00084856']"
   ]
  },
  {
   "cell_type": "code",
   "execution_count": 54,
   "id": "f4b55fef",
   "metadata": {
    "ExecuteTime": {
     "end_time": "2023-04-20T04:35:56.051473Z",
     "start_time": "2023-04-20T04:35:56.034458Z"
    },
    "scrolled": true
   },
   "outputs": [
    {
     "data": {
      "text/html": [
       "<div>\n",
       "<style scoped>\n",
       "    .dataframe tbody tr th:only-of-type {\n",
       "        vertical-align: middle;\n",
       "    }\n",
       "\n",
       "    .dataframe tbody tr th {\n",
       "        vertical-align: top;\n",
       "    }\n",
       "\n",
       "    .dataframe thead th {\n",
       "        text-align: right;\n",
       "    }\n",
       "</style>\n",
       "<table border=\"1\" class=\"dataframe\">\n",
       "  <thead>\n",
       "    <tr style=\"text-align: right;\">\n",
       "      <th></th>\n",
       "      <th>Main_ID</th>\n",
       "      <th>Code_Product</th>\n",
       "    </tr>\n",
       "  </thead>\n",
       "  <tbody>\n",
       "    <tr>\n",
       "      <th>0</th>\n",
       "      <td>00024de6</td>\n",
       "      <td>[35097.0]</td>\n",
       "    </tr>\n",
       "    <tr>\n",
       "      <th>1</th>\n",
       "      <td>00084856</td>\n",
       "      <td>[49291.5, 49292.0]</td>\n",
       "    </tr>\n",
       "    <tr>\n",
       "      <th>2</th>\n",
       "      <td>0008e848</td>\n",
       "      <td>[40002.0]</td>\n",
       "    </tr>\n",
       "    <tr>\n",
       "      <th>3</th>\n",
       "      <td>00096930</td>\n",
       "      <td>[49291.5]</td>\n",
       "    </tr>\n",
       "    <tr>\n",
       "      <th>4</th>\n",
       "      <td>000c66b7</td>\n",
       "      <td>[45001.0, 5002.0]</td>\n",
       "    </tr>\n",
       "    <tr>\n",
       "      <th>...</th>\n",
       "      <td>...</td>\n",
       "      <td>...</td>\n",
       "    </tr>\n",
       "    <tr>\n",
       "      <th>28509</th>\n",
       "      <td>fff8b1c4</td>\n",
       "      <td>[35077.0]</td>\n",
       "    </tr>\n",
       "    <tr>\n",
       "      <th>28510</th>\n",
       "      <td>fff905d0</td>\n",
       "      <td>[49292.0]</td>\n",
       "    </tr>\n",
       "    <tr>\n",
       "      <th>28511</th>\n",
       "      <td>fff9726b</td>\n",
       "      <td>[45001.5, 30003.0]</td>\n",
       "    </tr>\n",
       "    <tr>\n",
       "      <th>28512</th>\n",
       "      <td>fffa332b</td>\n",
       "      <td>[49556.0]</td>\n",
       "    </tr>\n",
       "    <tr>\n",
       "      <th>28513</th>\n",
       "      <td>ffff4aa9</td>\n",
       "      <td>[5009.0]</td>\n",
       "    </tr>\n",
       "  </tbody>\n",
       "</table>\n",
       "<p>28514 rows × 2 columns</p>\n",
       "</div>"
      ],
      "text/plain": [
       "        Main_ID        Code_Product\n",
       "0      00024de6           [35097.0]\n",
       "1      00084856  [49291.5, 49292.0]\n",
       "2      0008e848           [40002.0]\n",
       "3      00096930           [49291.5]\n",
       "4      000c66b7   [45001.0, 5002.0]\n",
       "...         ...                 ...\n",
       "28509  fff8b1c4           [35077.0]\n",
       "28510  fff905d0           [49292.0]\n",
       "28511  fff9726b  [45001.5, 30003.0]\n",
       "28512  fffa332b           [49556.0]\n",
       "28513  ffff4aa9            [5009.0]\n",
       "\n",
       "[28514 rows x 2 columns]"
      ]
     },
     "execution_count": 54,
     "metadata": {},
     "output_type": "execute_result"
    }
   ],
   "source": [
    "df_cust_product_purchase\n"
   ]
  },
  {
   "cell_type": "code",
   "execution_count": 55,
   "id": "cc8d10a4",
   "metadata": {
    "ExecuteTime": {
     "end_time": "2023-04-20T04:36:04.995953Z",
     "start_time": "2023-04-20T04:36:04.980440Z"
    }
   },
   "outputs": [
    {
     "data": {
      "text/plain": [
       "1    [49291.5, 49292.0]\n",
       "Name: Code_Product, dtype: object"
      ]
     },
     "execution_count": 55,
     "metadata": {},
     "output_type": "execute_result"
    }
   ],
   "source": [
    "df_cust_product_purchase.loc[df_cust_product_purchase['Main_ID']=='00084856','Code_Product']"
   ]
  },
  {
   "cell_type": "code",
   "execution_count": 45,
   "id": "4be36fa1",
   "metadata": {
    "ExecuteTime": {
     "end_time": "2023-04-20T04:23:43.600081Z",
     "start_time": "2023-04-20T04:23:43.582065Z"
    }
   },
   "outputs": [],
   "source": [
    "def recommend_products(Main_ID, product_corr, df_cust_product_purchase):\n",
    "    customer_products = df_cust_product_purchase.loc[df_cust_product_purchase['Main_ID'] == Main_ID, 'Code_Product'].values[0]\n",
    "    recommendations = pd.Series(dtype='float64')\n",
    "    for product in customer_products:\n",
    "        product_corr_sorted = product_corr[product].sort_values(ascending=False)\n",
    "        recommendations = recommendations.append(product_corr_sorted)\n",
    "    recommendations = recommendations.groupby(recommendations.index).mean()\n",
    "    recommendations = recommendations.drop(customer_products)\n",
    "    top_recommendations = recommendations.sort_values(ascending=False)\n",
    "    top_recommendations = top_recommendations[~top_recommendations.index.isin(customer_products)]\n",
    "    top_recommendations = top_recommendations.head(10)\n",
    "    top_recommendation_codes = top_recommendations.index.to_numpy()\n",
    "    print(f\"Top 10 recommended products for customer {Main_ID}:\")\n",
    "    print(top_recommendation_codes)"
   ]
  },
  {
   "cell_type": "code",
   "execution_count": 46,
   "id": "4f0d6df7",
   "metadata": {
    "ExecuteTime": {
     "end_time": "2023-04-20T04:23:44.372410Z",
     "start_time": "2023-04-20T04:23:44.356397Z"
    }
   },
   "outputs": [
    {
     "name": "stdout",
     "output_type": "stream",
     "text": [
      "Top 10 recommended products for customer 00084856:\n",
      "['10006.0' '5000.5' '5005.0' '25003.0' '45004.0' '48513.0' '10031.0'\n",
      " '10023.5' '49567.5' '5001.0']\n"
     ]
    },
    {
     "name": "stderr",
     "output_type": "stream",
     "text": [
      "C:\\Users\\Owner\\AppData\\Local\\Temp\\ipykernel_24752\\555733311.py:6: FutureWarning: The series.append method is deprecated and will be removed from pandas in a future version. Use pandas.concat instead.\n",
      "  recommendations = recommendations.append(product_corr_sorted)\n",
      "C:\\Users\\Owner\\AppData\\Local\\Temp\\ipykernel_24752\\555733311.py:6: FutureWarning: The series.append method is deprecated and will be removed from pandas in a future version. Use pandas.concat instead.\n",
      "  recommendations = recommendations.append(product_corr_sorted)\n"
     ]
    }
   ],
   "source": [
    "recommend_products('00084856', product_corr, df_cust_product_purchase)\n"
   ]
  },
  {
   "cell_type": "markdown",
   "id": "ab01e39d",
   "metadata": {},
   "source": [
    "The recommend_products function takes three arguments as input:\n",
    "\n",
    "    Main_ID: The ID of the customer for whom we want to generate recommendations.\n",
    "    product_corr: A correlation matrix between different products. This matrix is used to identify products that are similar to the ones the customer has already purchased.\n",
    "    df_cust_product_purchase: A DataFrame that contains information about which products each customer has purchased in the past.\n",
    "\n",
    "The function first extracts the products that the customer has already purchased by using the loc method to filter the df_cust_product_purchase DataFrame based on the Main_ID. It then calculates a set of recommendations for the customer by looping over each of the products they have already purchased and identifying other products that are similar to those ones using the product_corr matrix. The function then averages the correlation values across all of the products and returns a set of recommendations.The function averages the correlation values across all of the products to give a general idea of how related each product is to the customer's overall purchase history. By taking the mean of the correlation values for each product, we get the overall correlation between the customer's purchase history and each product. This allows us to generate a list of recommendations that are likely to be relevant to the customer's interests based on their past purchases.\n",
    "\n",
    "Finally, the function sorts the recommendations in descending order and prints the top 10 recommended products for the customer, excluding any products they have already purchased."
   ]
  },
  {
   "cell_type": "code",
   "execution_count": null,
   "id": "23dc5068",
   "metadata": {},
   "outputs": [],
   "source": [
    "df_simple_recommender.rename(columns={'Main_ID': 'user_id', 'Code_Product': 'item_id', 'Amount': 'rating'}, inplace=True)\n",
    "a=pd.pivot_table(df_simple_recommender, index='user_id', columns='item_id', values='rating')\n",
    "df_CM_simple_rec = pd.pivot_table(df_simple_recommender, index='user_id', columns='item_id', values='rating').corr()\n",
    "single_prod_corr = df_CM_simple_rec[5011.5].sort_values(ascending=False)\n",
    "rec_dict = {'user_id':[],\n",
    "      'purchased_item_id':[],\n",
    "      'reccomended_item':[],\n",
    "      'correlations_coeff':[]}\n",
    "for g in df_simple_recommender.groupby('user_id'):\n",
    "  for i in g[1]['item_id']:\n",
    "    single_prod_corr = df_CM_simple_rec[i].sort_values(ascending=False)\n",
    "    positive_single_prod_corr = single_prod_corr.loc[single_prod_corr.values > 0]\n",
    "    for j in positive_single_prod_corr.index:\n",
    "      rec_dict['user_id'].append(g[0])\n",
    "      rec_dict['purchased_item_id'].append(i)\n",
    "      rec_dict['reccomended_item'].append(j)\n",
    "      rec_dict['correlations_coeff'].append(positive_single_prod_corr[j])\n",
    "df_simpl_rec_final = pd.DataFrame(rec_dict)\n",
    "df_simpl_rec_final['correlations_coeff'] = df_simpl_rec_final['correlations_coeff'].apply(lambda x: round(x, 2))\n",
    "df_simpl_rec_final.index = pd.MultiIndex.from_arrays([df_simpl_rec_final['user_id'],\n",
    "                          df_simpl_rec_final['purchased_item_id'],\n",
    "                          df_simpl_rec_final['reccomended_item']])\n",
    "df_simpl_rec_final.drop(columns=['user_id','purchased_item_id','reccomended_item'], inplace=True)"
   ]
  }
 ],
 "metadata": {
  "kernelspec": {
   "display_name": "Python 3 (ipykernel)",
   "language": "python",
   "name": "python3"
  },
  "language_info": {
   "codemirror_mode": {
    "name": "ipython",
    "version": 3
   },
   "file_extension": ".py",
   "mimetype": "text/x-python",
   "name": "python",
   "nbconvert_exporter": "python",
   "pygments_lexer": "ipython3",
   "version": "3.10.7"
  },
  "nbTranslate": {
   "displayLangs": [
    "*"
   ],
   "hotkey": "alt-t",
   "langInMainMenu": true,
   "sourceLang": "en",
   "targetLang": "fr",
   "useGoogleTranslate": true
  },
  "toc": {
   "base_numbering": 1,
   "nav_menu": {},
   "number_sections": true,
   "sideBar": true,
   "skip_h1_title": false,
   "title_cell": "Table of Contents",
   "title_sidebar": "Contents",
   "toc_cell": false,
   "toc_position": {},
   "toc_section_display": true,
   "toc_window_display": false
  },
  "varInspector": {
   "cols": {
    "lenName": 16,
    "lenType": 16,
    "lenVar": 40
   },
   "kernels_config": {
    "python": {
     "delete_cmd_postfix": "",
     "delete_cmd_prefix": "del ",
     "library": "var_list.py",
     "varRefreshCmd": "print(var_dic_list())"
    },
    "r": {
     "delete_cmd_postfix": ") ",
     "delete_cmd_prefix": "rm(",
     "library": "var_list.r",
     "varRefreshCmd": "cat(var_dic_list()) "
    }
   },
   "types_to_exclude": [
    "module",
    "function",
    "builtin_function_or_method",
    "instance",
    "_Feature"
   ],
   "window_display": false
  }
 },
 "nbformat": 4,
 "nbformat_minor": 5
}
